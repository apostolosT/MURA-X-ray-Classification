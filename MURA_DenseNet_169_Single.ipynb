{
  "nbformat": 4,
  "nbformat_minor": 0,
  "metadata": {
    "colab": {
      "name": "MURA DenseNet-169 Single",
      "provenance": []
    },
    "kernelspec": {
      "name": "python3",
      "display_name": "Python 3"
    },
    "accelerator": "GPU"
  },
  "cells": [
    {
      "cell_type": "code",
      "metadata": {
        "id": "dDyLUhxPh3Q3",
        "colab_type": "code",
        "colab": {
          "base_uri": "https://localhost:8080/",
          "height": 129
        },
        "outputId": "2dbe2aea-48aa-42e4-cfea-ce3557ee2339"
      },
      "source": [
        "from google.colab import drive\n",
        "drive.mount('/content/drive/')"
      ],
      "execution_count": null,
      "outputs": [
        {
          "output_type": "stream",
          "text": [
            "Go to this URL in a browser: https://accounts.google.com/o/oauth2/auth?client_id=947318989803-6bn6qk8qdgf4n4g3pfee6491hc0brc4i.apps.googleusercontent.com&redirect_uri=urn%3aietf%3awg%3aoauth%3a2.0%3aoob&response_type=code&scope=email%20https%3a%2f%2fwww.googleapis.com%2fauth%2fdocs.test%20https%3a%2f%2fwww.googleapis.com%2fauth%2fdrive%20https%3a%2f%2fwww.googleapis.com%2fauth%2fdrive.photos.readonly%20https%3a%2f%2fwww.googleapis.com%2fauth%2fpeopleapi.readonly\n",
            "\n",
            "Enter your authorization code:\n",
            "··········\n",
            "Mounted at /content/drive/\n"
          ],
          "name": "stdout"
        }
      ]
    },
    {
      "cell_type": "code",
      "metadata": {
        "id": "UWKOjevwhPA5",
        "colab_type": "code",
        "colab": {}
      },
      "source": [
        "!wget 'https://cs.stanford.edu/group/mlgroup/MURA-v1.1.zip' "
      ],
      "execution_count": null,
      "outputs": []
    },
    {
      "cell_type": "code",
      "metadata": {
        "id": "x-99FcpChnAS",
        "colab_type": "code",
        "colab": {}
      },
      "source": [
        "!unzip MURA-v1.1.zip "
      ],
      "execution_count": null,
      "outputs": []
    },
    {
      "cell_type": "code",
      "metadata": {
        "id": "-gCzQ0dYg8Ai",
        "colab_type": "code",
        "colab": {}
      },
      "source": [
        "drive_path='/content/drive/My Drive/MURA Challenge/data/'\n",
        "path='/content/drive/My Drive/MURA Challenge/data/MURA-v1.1/'\n",
        "colab_path='/content/MURA-v1.1/'"
      ],
      "execution_count": null,
      "outputs": []
    },
    {
      "cell_type": "code",
      "metadata": {
        "id": "MpXeoRQpVzex",
        "colab_type": "code",
        "colab": {}
      },
      "source": [
        "import numpy as np\n",
        "import pandas as pd\n",
        "import matplotlib.pyplot as plt\n",
        "import cv2\n",
        "%matplotlib inline\n",
        "import warnings\n",
        "warnings.filterwarnings('ignore')\n",
        "import os\n",
        "from tqdm import tqdm\n",
        "from glob import glob\n",
        "import tensorflow as tf\n",
        "from tensorflow import keras"
      ],
      "execution_count": null,
      "outputs": []
    },
    {
      "cell_type": "code",
      "metadata": {
        "id": "37c_dWFOWJF1",
        "colab_type": "code",
        "colab": {}
      },
      "source": [
        "# os.listdir(path)"
      ],
      "execution_count": null,
      "outputs": []
    },
    {
      "cell_type": "code",
      "metadata": {
        "id": "d5mbyJIwkBNI",
        "colab_type": "code",
        "colab": {}
      },
      "source": [
        "train_imgs_path=pd.read_csv(colab_path+'train_image_paths.csv',dtype=str,header=None,names=['Img_Path'])\n",
        "train_labels=pd.read_csv(colab_path+'train_labeled_studies.csv',dtype=str,names=['Img_Path','Label'],header=None)\n",
        "test_imgs_path=pd.read_csv(colab_path+'valid_image_paths.csv',dtype=str,header=None,names=['Img_Path'])\n",
        "test_labels=pd.read_csv(colab_path+'valid_labeled_studies.csv',dtype=str,names=['Img_Path','Label'],header=None)"
      ],
      "execution_count": null,
      "outputs": []
    },
    {
      "cell_type": "code",
      "metadata": {
        "id": "RFYeTqguJyC-",
        "colab_type": "code",
        "colab": {}
      },
      "source": [
        "def keep_dir(dir):\n",
        "  x=list(dir.split('/'))\n",
        "  x='/'.join(x[:5])\n",
        "  x=x+'/'\n",
        "  return x\n",
        "def keep_dir2(dir):\n",
        "  x=list(dir.split('/'))\n",
        "  x='/'.join(x[3:5])\n",
        "  x=x+'/'\n",
        "  return x"
      ],
      "execution_count": null,
      "outputs": []
    },
    {
      "cell_type": "code",
      "metadata": {
        "id": "H1YnMFYUKamx",
        "colab_type": "code",
        "colab": {
          "base_uri": "https://localhost:8080/",
          "height": 36
        },
        "outputId": "6802e936-3414-4d27-c16e-39f861b5a197"
      },
      "source": [
        "keep_dir('MURA-v1.1/train/XR_SHOULDER/patient00001/study1_positive/image1.png')"
      ],
      "execution_count": null,
      "outputs": [
        {
          "output_type": "execute_result",
          "data": {
            "application/vnd.google.colaboratory.intrinsic": {
              "type": "string"
            },
            "text/plain": [
              "'MURA-v1.1/train/XR_SHOULDER/patient00001/study1_positive/'"
            ]
          },
          "metadata": {
            "tags": []
          },
          "execution_count": 105
        }
      ]
    },
    {
      "cell_type": "code",
      "metadata": {
        "id": "xVprIq02-5aw",
        "colab_type": "code",
        "colab": {}
      },
      "source": [
        "train_imgs_path['path_to_merge']=train_imgs_path['Img_Path'].apply(lambda x: keep_dir(x))\n",
        "test_imgs_path['path_to_merge']=test_imgs_path['Img_Path'].apply(lambda x: keep_dir(x))"
      ],
      "execution_count": null,
      "outputs": []
    },
    {
      "cell_type": "code",
      "metadata": {
        "id": "bnC9bh9AFyS2",
        "colab_type": "code",
        "colab": {}
      },
      "source": [
        "train_data=train_imgs_path.merge(train_labels,how='inner',left_on='path_to_merge', right_on='Img_Path')\n",
        "test_data=test_imgs_path.merge(test_labels,how='inner',left_on='path_to_merge', right_on='Img_Path')"
      ],
      "execution_count": null,
      "outputs": []
    },
    {
      "cell_type": "code",
      "metadata": {
        "id": "WOYEsugFVYAA",
        "colab_type": "code",
        "colab": {}
      },
      "source": [
        "train_data['Body_Part']=train_data['Img_Path_x'].apply(lambda x: str(x.split('/')[2]))\n",
        "test_data['Body_Part']=test_data['Img_Path_x'].apply(lambda x: str(x.split('/')[2]))\n",
        "train_data['Patient/Study']=train_data['Img_Path_x'].apply(lambda x: str(x.split('/')[3:5]))\n",
        "test_data['Patient/Study']=test_data['Img_Path_x'].apply(lambda x: str(x.split('/')[3:5]))\n",
        "train_data['Patient/Study']=train_data['Img_Path_x'].apply(lambda x: keep_dir2(x) )\n",
        "test_data['Patient/Study']=test_data['Img_Path_x'].apply(lambda x: keep_dir2(x) )\n",
        "train_data.drop(columns=['path_to_merge','Img_Path_y'],inplace=True)\n",
        "train_data.rename(columns={'Img_Path_x':'Img_Path'},inplace=True)\n",
        "test_data.drop(columns=['path_to_merge','Img_Path_y'],inplace=True)\n",
        "test_data.rename(columns={'Img_Path_x':'Img_Path'},inplace=True)\n",
        "\n",
        "test_labels['Body_Part']=test_labels['Img_Path'].apply(lambda x: str(x.split('/')[2]))\n",
        "test_labels['Patient/Study']=test_labels['Img_Path'].apply(lambda x:  keep_dir2(x))\n",
        "\n",
        "\n",
        "# train_data.Img_Path=train_data.Img_Path.apply(lambda x: drive_path+x)\n",
        "# test_data.Img_Path=test_data.Img_Path.apply(lambda x: drive_path+x)"
      ],
      "execution_count": null,
      "outputs": []
    },
    {
      "cell_type": "markdown",
      "metadata": {
        "id": "rayGv-uJJ_82",
        "colab_type": "text"
      },
      "source": [
        "### Prep Data For Training\n",
        "\n",
        "\n"
      ]
    },
    {
      "cell_type": "code",
      "metadata": {
        "id": "JKQ_wSZZKTqM",
        "colab_type": "code",
        "colab": {}
      },
      "source": [
        "# train_data=train_data[train_data.Body_Part=='XR_ELBOW']"
      ],
      "execution_count": null,
      "outputs": []
    },
    {
      "cell_type": "code",
      "metadata": {
        "id": "HPoKujeiZpdK",
        "colab_type": "code",
        "colab": {}
      },
      "source": [
        "shuffled=train_data.sample(frac=1)"
      ],
      "execution_count": null,
      "outputs": []
    },
    {
      "cell_type": "code",
      "metadata": {
        "id": "3HJ1s_JzbGFg",
        "colab_type": "code",
        "colab": {}
      },
      "source": [
        "msk = np.random.rand(len(shuffled)) < 0.8\n",
        "\n",
        "train = shuffled[msk]\n",
        "\n",
        "val= shuffled[~msk]"
      ],
      "execution_count": null,
      "outputs": []
    },
    {
      "cell_type": "code",
      "metadata": {
        "id": "zu8jtNoZ8ksX",
        "colab_type": "code",
        "colab": {}
      },
      "source": [
        "from keras.preprocessing.image import load_img\n",
        "from keras.preprocessing.image import img_to_array \n",
        "from keras.preprocessing.image import array_to_img\n",
        "from keras.preprocessing.image import ImageDataGenerator"
      ],
      "execution_count": null,
      "outputs": []
    },
    {
      "cell_type": "code",
      "metadata": {
        "id": "4nZOsmbvFCdp",
        "colab_type": "code",
        "colab": {}
      },
      "source": [
        "from sklearn.model_selection import train_test_split\n",
        "from keras.utils import to_categorical\n",
        "#split train data to train and val\n",
        "#X_train, X_val, y_train, y_val=train_test_split(train_data.Img_Path,to_categorical(train_data.Label), test_size=0.2, random_state=42)"
      ],
      "execution_count": null,
      "outputs": []
    },
    {
      "cell_type": "code",
      "metadata": {
        "id": "2b0sThYoRqTz",
        "colab_type": "code",
        "colab": {}
      },
      "source": [
        "# train_generator = DataGenerator(train_data.Img_Path,train_data.Label)"
      ],
      "execution_count": null,
      "outputs": []
    },
    {
      "cell_type": "markdown",
      "metadata": {
        "id": "jmM7JQnYN8QY",
        "colab_type": "text"
      },
      "source": [
        "### Define Evaluation metrics & Helper Functions\n"
      ]
    },
    {
      "cell_type": "code",
      "metadata": {
        "id": "p7YbK6ZsOBOn",
        "colab_type": "code",
        "colab": {}
      },
      "source": [
        "import keras.backend as K\n",
        "def recall(y_true, y_pred):\n",
        "    \n",
        "    \"\"\"\n",
        "    Recall metric.\n",
        "    Only computes a batch-wise average of recall.\n",
        "    Computes the recall, a metric for multi-label classification of\n",
        "    how many relevant items are selected.\n",
        "    \"\"\"\n",
        "    true_positives = K.sum(K.round(K.clip(y_true * y_pred, 0, 1)))\n",
        "    possible_positives = K.sum(K.round(K.clip(y_true, 0, 1)))\n",
        "    recall = true_positives / (possible_positives + K.epsilon())\n",
        "    return recall\n",
        "\n",
        "\n",
        "def precision(y_true, y_pred):\n",
        "    \n",
        "    \"\"\"\n",
        "    Precision metric.\n",
        "    Only computes a batch-wise average of precision.\n",
        "    Computes the precision, a metric for multi-label classification of\n",
        "    how many selected items are relevant.\n",
        "    Source\n",
        "    ------\n",
        "    https://github.com/fchollet/keras/issues/5400#issuecomment-314747992\n",
        "    \"\"\"\n",
        "    true_positives = K.sum(K.round(K.clip(y_true * y_pred, 0, 1)))\n",
        "    predicted_positives = K.sum(K.round(K.clip(y_pred, 0, 1)))\n",
        "    precision = true_positives / (predicted_positives + K.epsilon())\n",
        "    return precision\n",
        "\n",
        "\n",
        "def f1(y_true, y_pred):\n",
        "    \n",
        "    \"\"\"Calculate the F1 score.\"\"\"\n",
        "    p = precision(y_true, y_pred)\n",
        "    r = recall(y_true, y_pred)\n",
        "    return 2 * ((p * r) / (p + r))\n",
        "\n",
        "\n",
        "# def accuracy(y_true, y_pred):\n",
        "#     return K.mean(K.equal(y_true, K.round(y_pred)), axis=1)"
      ],
      "execution_count": null,
      "outputs": []
    },
    {
      "cell_type": "code",
      "metadata": {
        "id": "qaPjVXWSer68",
        "colab_type": "code",
        "colab": {}
      },
      "source": [
        "# for visualizing the training progress of our models\n",
        "%matplotlib inline\n",
        "import matplotlib.pyplot as plt\n",
        "def viz_history(hs_dict,metric):\n",
        "  plt.style.use('dark_background')\n",
        "  plt.rcParams['figure.figsize'] = [15, 8]\n",
        "  plt.rcParams['font.size'] = 16\n",
        "  plt.clf()\n",
        "  for model in hs_dict.keys():\n",
        "    plt.plot(hs_dict[model].history[metric],label='{0:s} train {1:s}'.format(model, metric))\n",
        "    plt.plot(hs_dict[model].history['val_{0:s}'.format(metric)],label='{0:s} validation {1:s}'.format(model, metric))\n",
        "    plt.ylabel(metric) \n",
        "    plt.xlabel('epoch')\n",
        "    plt.legend()\n",
        "  plt.show()"
      ],
      "execution_count": null,
      "outputs": []
    },
    {
      "cell_type": "markdown",
      "metadata": {
        "id": "wTzVQBNOLfYy",
        "colab_type": "text"
      },
      "source": [
        "### Create DenseNet 169 model"
      ]
    },
    {
      "cell_type": "code",
      "metadata": {
        "id": "4cg8QMwyLeJ8",
        "colab_type": "code",
        "colab": {}
      },
      "source": [
        "from keras.models import *\n",
        "from keras.layers import *\n",
        "from keras.optimizers import *\n",
        "from keras.applications.vgg16 import VGG16\n",
        "from keras.applications.resnet50 import ResNet50\n",
        "from keras.applications import ResNet101\n",
        "from keras.applications.densenet import DenseNet169\n",
        "from keras.callbacks import *"
      ],
      "execution_count": null,
      "outputs": []
    },
    {
      "cell_type": "code",
      "metadata": {
        "id": "FIL2FvfOId-K",
        "colab_type": "code",
        "colab": {}
      },
      "source": [
        "def buildDenseNet(height, width, channels, n_classes):\n",
        "  in_shape=(height, width, channels)\n",
        "  \n",
        "  dense_169_model = DenseNet169(weights='imagenet', \n",
        "                           include_top=False, \n",
        "                           input_shape=in_shape,\n",
        "                           pooling='avg'\n",
        "                           )\n",
        "  \n",
        "  x = dense_169_model.output \n",
        "  #x= Flatten()(x)\n",
        "  output = Dense(n_classes, activation='softmax', name='predictions')(x)\n",
        "  model = Model(inputs=dense_169_model.input, output=output)\n",
        "\n",
        "  for layer in dense_169_model.layers:\n",
        "          layer.trainable = True\n",
        "\n",
        "  model.compile(optimizer=Adam(learning_rate=1e-4), loss=\"categorical_crossentropy\", metrics=['acc',f1])\n",
        "\n",
        "\n",
        "\n",
        "  return model"
      ],
      "execution_count": null,
      "outputs": []
    },
    {
      "cell_type": "code",
      "metadata": {
        "id": "1FsuqYEUOjMB",
        "colab_type": "code",
        "colab": {}
      },
      "source": [
        "DenseNetModel=buildDenseNet(height=224, width=224, channels = 3, n_classes = 2);"
      ],
      "execution_count": null,
      "outputs": []
    },
    {
      "cell_type": "code",
      "metadata": {
        "id": "r3CNnV68Ro0K",
        "colab_type": "code",
        "colab": {}
      },
      "source": [
        "callback_list = [EarlyStopping(monitor='val_loss', patience=5, verbose=1),\n",
        "                  ReduceLROnPlateau(monitor='val_loss', factor=0.1, patience=2,cooldown=2, verbose=1, mode='auto'),\n",
        "             ModelCheckpoint(filepath='best_model_unfreezed.h5', monitor='val_loss', save_best_only=True)]"
      ],
      "execution_count": null,
      "outputs": []
    },
    {
      "cell_type": "code",
      "metadata": {
        "id": "NKlFqQqDv08Q",
        "colab_type": "code",
        "colab": {}
      },
      "source": [
        "#model parameters for training\n",
        "STEP_SIZE_TRAIN=train_generator.n//train_generator.batch_size\n",
        "STEP_SIZE_VALID=val_generator.n//val_generator.batch_size"
      ],
      "execution_count": null,
      "outputs": []
    },
    {
      "cell_type": "code",
      "metadata": {
        "id": "OaZpKzT_R1ir",
        "colab_type": "code",
        "colab": {
          "base_uri": "https://localhost:8080/",
          "height": 883
        },
        "outputId": "8910bf1a-219f-4612-c41f-c06b1f882213"
      },
      "source": [
        "#fit DensnetModel\n",
        "# dense_hist=DenseNetModel.fit(x=train_dict['images'],\n",
        "#                              y=train_dict['labels'],\n",
        "#                              validation_data=(valid_dict['images'],valid_dict['labels']),\n",
        "#                              batch_size=32,\n",
        "#                              epochs=7,\n",
        "#                              callbacks=callbacks,\n",
        "#                              verbose=1\n",
        "#                     )\n",
        "\n",
        "dense_hist=DenseNetModel.fit(\n",
        "    train_generator,\n",
        "    epochs=20,\n",
        "    steps_per_epoch=STEP_SIZE_TRAIN,\n",
        "    validation_data=val_generator,\n",
        "    validation_steps=STEP_SIZE_VALID,\n",
        "    callbacks=callback_list,\n",
        "    verbose=1\n",
        "                    )"
      ],
      "execution_count": null,
      "outputs": [
        {
          "output_type": "stream",
          "text": [
            "Epoch 1/20\n",
            "919/919 [==============================] - 1058s 1s/step - loss: 0.5269 - acc: 0.7492 - f1: 0.7491 - val_loss: 0.4491 - val_acc: 0.7855 - val_f1: 0.7855\n",
            "Epoch 2/20\n",
            "919/919 [==============================] - 993s 1s/step - loss: 0.4565 - acc: 0.7952 - f1: 0.7952 - val_loss: 0.5083 - val_acc: 0.7854 - val_f1: 0.7855\n",
            "Epoch 3/20\n",
            "919/919 [==============================] - 995s 1s/step - loss: 0.4291 - acc: 0.8123 - f1: 0.8123 - val_loss: 0.4660 - val_acc: 0.7998 - val_f1: 0.7999\n",
            "\n",
            "Epoch 00003: ReduceLROnPlateau reducing learning rate to 9.999999747378752e-06.\n",
            "Epoch 4/20\n",
            "919/919 [==============================] - 996s 1s/step - loss: 0.3672 - acc: 0.8444 - f1: 0.8444 - val_loss: 0.5143 - val_acc: 0.8330 - val_f1: 0.8331\n",
            "Epoch 5/20\n",
            "919/919 [==============================] - 994s 1s/step - loss: 0.3402 - acc: 0.8569 - f1: 0.8569 - val_loss: 0.8929 - val_acc: 0.8334 - val_f1: 0.8335\n",
            "Epoch 6/20\n",
            "919/919 [==============================] - 996s 1s/step - loss: 0.3199 - acc: 0.8654 - f1: 0.8653 - val_loss: 0.2756 - val_acc: 0.8371 - val_f1: 0.8372\n",
            "Epoch 7/20\n",
            "919/919 [==============================] - 996s 1s/step - loss: 0.3012 - acc: 0.8744 - f1: 0.8744 - val_loss: 0.4811 - val_acc: 0.8333 - val_f1: 0.8333\n",
            "Epoch 8/20\n",
            "919/919 [==============================] - 995s 1s/step - loss: 0.2851 - acc: 0.8826 - f1: 0.8826 - val_loss: 0.7023 - val_acc: 0.8332 - val_f1: 0.8332\n",
            "\n",
            "Epoch 00008: ReduceLROnPlateau reducing learning rate to 9.999999747378752e-07.\n",
            "Epoch 9/20\n",
            "919/919 [==============================] - 995s 1s/step - loss: 0.2591 - acc: 0.8949 - f1: 0.8949 - val_loss: 0.1434 - val_acc: 0.8370 - val_f1: 0.8370\n",
            "Epoch 10/20\n",
            "919/919 [==============================] - 997s 1s/step - loss: 0.2547 - acc: 0.8968 - f1: 0.8968 - val_loss: 0.5173 - val_acc: 0.8352 - val_f1: 0.8352\n",
            "Epoch 11/20\n",
            "565/919 [=================>............] - ETA: 6:03 - loss: 0.2527 - acc: 0.8990 - f1: 0.8990"
          ],
          "name": "stdout"
        },
        {
          "output_type": "error",
          "ename": "KeyboardInterrupt",
          "evalue": "ignored",
          "traceback": [
            "\u001b[0;31m---------------------------------------------------------------------------\u001b[0m",
            "\u001b[0;31mKeyboardInterrupt\u001b[0m                         Traceback (most recent call last)",
            "\u001b[0;32m<ipython-input-131-662dfa63ee8a>\u001b[0m in \u001b[0;36m<module>\u001b[0;34m()\u001b[0m\n\u001b[1;32m     16\u001b[0m     \u001b[0mvalidation_steps\u001b[0m\u001b[0;34m=\u001b[0m\u001b[0mSTEP_SIZE_VALID\u001b[0m\u001b[0;34m,\u001b[0m\u001b[0;34m\u001b[0m\u001b[0;34m\u001b[0m\u001b[0m\n\u001b[1;32m     17\u001b[0m     \u001b[0mcallbacks\u001b[0m\u001b[0;34m=\u001b[0m\u001b[0mcallback_list\u001b[0m\u001b[0;34m,\u001b[0m\u001b[0;34m\u001b[0m\u001b[0;34m\u001b[0m\u001b[0m\n\u001b[0;32m---> 18\u001b[0;31m     \u001b[0mverbose\u001b[0m\u001b[0;34m=\u001b[0m\u001b[0;36m1\u001b[0m\u001b[0;34m\u001b[0m\u001b[0;34m\u001b[0m\u001b[0m\n\u001b[0m\u001b[1;32m     19\u001b[0m                     )\n",
            "\u001b[0;32m/usr/local/lib/python3.6/dist-packages/keras/engine/training.py\u001b[0m in \u001b[0;36mfit\u001b[0;34m(self, x, y, batch_size, epochs, verbose, callbacks, validation_split, validation_data, shuffle, class_weight, sample_weight, initial_epoch, steps_per_epoch, validation_steps, validation_freq, max_queue_size, workers, use_multiprocessing, **kwargs)\u001b[0m\n\u001b[1;32m   1145\u001b[0m                 \u001b[0muse_multiprocessing\u001b[0m\u001b[0;34m=\u001b[0m\u001b[0muse_multiprocessing\u001b[0m\u001b[0;34m,\u001b[0m\u001b[0;34m\u001b[0m\u001b[0;34m\u001b[0m\u001b[0m\n\u001b[1;32m   1146\u001b[0m                 \u001b[0mshuffle\u001b[0m\u001b[0;34m=\u001b[0m\u001b[0mshuffle\u001b[0m\u001b[0;34m,\u001b[0m\u001b[0;34m\u001b[0m\u001b[0;34m\u001b[0m\u001b[0m\n\u001b[0;32m-> 1147\u001b[0;31m                 initial_epoch=initial_epoch)\n\u001b[0m\u001b[1;32m   1148\u001b[0m \u001b[0;34m\u001b[0m\u001b[0m\n\u001b[1;32m   1149\u001b[0m         \u001b[0;31m# Case 2: Symbolic tensors or Numpy array-like.\u001b[0m\u001b[0;34m\u001b[0m\u001b[0;34m\u001b[0m\u001b[0;34m\u001b[0m\u001b[0m\n",
            "\u001b[0;32m/usr/local/lib/python3.6/dist-packages/keras/legacy/interfaces.py\u001b[0m in \u001b[0;36mwrapper\u001b[0;34m(*args, **kwargs)\u001b[0m\n\u001b[1;32m     89\u001b[0m                 warnings.warn('Update your `' + object_name + '` call to the ' +\n\u001b[1;32m     90\u001b[0m                               'Keras 2 API: ' + signature, stacklevel=2)\n\u001b[0;32m---> 91\u001b[0;31m             \u001b[0;32mreturn\u001b[0m \u001b[0mfunc\u001b[0m\u001b[0;34m(\u001b[0m\u001b[0;34m*\u001b[0m\u001b[0margs\u001b[0m\u001b[0;34m,\u001b[0m \u001b[0;34m**\u001b[0m\u001b[0mkwargs\u001b[0m\u001b[0;34m)\u001b[0m\u001b[0;34m\u001b[0m\u001b[0;34m\u001b[0m\u001b[0m\n\u001b[0m\u001b[1;32m     92\u001b[0m         \u001b[0mwrapper\u001b[0m\u001b[0;34m.\u001b[0m\u001b[0m_original_function\u001b[0m \u001b[0;34m=\u001b[0m \u001b[0mfunc\u001b[0m\u001b[0;34m\u001b[0m\u001b[0;34m\u001b[0m\u001b[0m\n\u001b[1;32m     93\u001b[0m         \u001b[0;32mreturn\u001b[0m \u001b[0mwrapper\u001b[0m\u001b[0;34m\u001b[0m\u001b[0;34m\u001b[0m\u001b[0m\n",
            "\u001b[0;32m/usr/local/lib/python3.6/dist-packages/keras/engine/training.py\u001b[0m in \u001b[0;36mfit_generator\u001b[0;34m(self, generator, steps_per_epoch, epochs, verbose, callbacks, validation_data, validation_steps, validation_freq, class_weight, max_queue_size, workers, use_multiprocessing, shuffle, initial_epoch)\u001b[0m\n\u001b[1;32m   1730\u001b[0m             \u001b[0muse_multiprocessing\u001b[0m\u001b[0;34m=\u001b[0m\u001b[0muse_multiprocessing\u001b[0m\u001b[0;34m,\u001b[0m\u001b[0;34m\u001b[0m\u001b[0;34m\u001b[0m\u001b[0m\n\u001b[1;32m   1731\u001b[0m             \u001b[0mshuffle\u001b[0m\u001b[0;34m=\u001b[0m\u001b[0mshuffle\u001b[0m\u001b[0;34m,\u001b[0m\u001b[0;34m\u001b[0m\u001b[0;34m\u001b[0m\u001b[0m\n\u001b[0;32m-> 1732\u001b[0;31m             initial_epoch=initial_epoch)\n\u001b[0m\u001b[1;32m   1733\u001b[0m \u001b[0;34m\u001b[0m\u001b[0m\n\u001b[1;32m   1734\u001b[0m     \u001b[0;34m@\u001b[0m\u001b[0minterfaces\u001b[0m\u001b[0;34m.\u001b[0m\u001b[0mlegacy_generator_methods_support\u001b[0m\u001b[0;34m\u001b[0m\u001b[0;34m\u001b[0m\u001b[0m\n",
            "\u001b[0;32m/usr/local/lib/python3.6/dist-packages/keras/engine/training_generator.py\u001b[0m in \u001b[0;36mfit_generator\u001b[0;34m(model, generator, steps_per_epoch, epochs, verbose, callbacks, validation_data, validation_steps, validation_freq, class_weight, max_queue_size, workers, use_multiprocessing, shuffle, initial_epoch)\u001b[0m\n\u001b[1;32m    218\u001b[0m                                             \u001b[0msample_weight\u001b[0m\u001b[0;34m=\u001b[0m\u001b[0msample_weight\u001b[0m\u001b[0;34m,\u001b[0m\u001b[0;34m\u001b[0m\u001b[0;34m\u001b[0m\u001b[0m\n\u001b[1;32m    219\u001b[0m                                             \u001b[0mclass_weight\u001b[0m\u001b[0;34m=\u001b[0m\u001b[0mclass_weight\u001b[0m\u001b[0;34m,\u001b[0m\u001b[0;34m\u001b[0m\u001b[0;34m\u001b[0m\u001b[0m\n\u001b[0;32m--> 220\u001b[0;31m                                             reset_metrics=False)\n\u001b[0m\u001b[1;32m    221\u001b[0m \u001b[0;34m\u001b[0m\u001b[0m\n\u001b[1;32m    222\u001b[0m                 \u001b[0mouts\u001b[0m \u001b[0;34m=\u001b[0m \u001b[0mto_list\u001b[0m\u001b[0;34m(\u001b[0m\u001b[0mouts\u001b[0m\u001b[0;34m)\u001b[0m\u001b[0;34m\u001b[0m\u001b[0;34m\u001b[0m\u001b[0m\n",
            "\u001b[0;32m/usr/local/lib/python3.6/dist-packages/keras/engine/training.py\u001b[0m in \u001b[0;36mtrain_on_batch\u001b[0;34m(self, x, y, sample_weight, class_weight, reset_metrics)\u001b[0m\n\u001b[1;32m   1512\u001b[0m             \u001b[0mins\u001b[0m \u001b[0;34m=\u001b[0m \u001b[0mx\u001b[0m \u001b[0;34m+\u001b[0m \u001b[0my\u001b[0m \u001b[0;34m+\u001b[0m \u001b[0msample_weights\u001b[0m\u001b[0;34m\u001b[0m\u001b[0;34m\u001b[0m\u001b[0m\n\u001b[1;32m   1513\u001b[0m         \u001b[0mself\u001b[0m\u001b[0;34m.\u001b[0m\u001b[0m_make_train_function\u001b[0m\u001b[0;34m(\u001b[0m\u001b[0;34m)\u001b[0m\u001b[0;34m\u001b[0m\u001b[0;34m\u001b[0m\u001b[0m\n\u001b[0;32m-> 1514\u001b[0;31m         \u001b[0moutputs\u001b[0m \u001b[0;34m=\u001b[0m \u001b[0mself\u001b[0m\u001b[0;34m.\u001b[0m\u001b[0mtrain_function\u001b[0m\u001b[0;34m(\u001b[0m\u001b[0mins\u001b[0m\u001b[0;34m)\u001b[0m\u001b[0;34m\u001b[0m\u001b[0;34m\u001b[0m\u001b[0m\n\u001b[0m\u001b[1;32m   1515\u001b[0m \u001b[0;34m\u001b[0m\u001b[0m\n\u001b[1;32m   1516\u001b[0m         \u001b[0;32mif\u001b[0m \u001b[0mreset_metrics\u001b[0m\u001b[0;34m:\u001b[0m\u001b[0;34m\u001b[0m\u001b[0;34m\u001b[0m\u001b[0m\n",
            "\u001b[0;32m/usr/local/lib/python3.6/dist-packages/tensorflow/python/keras/backend.py\u001b[0m in \u001b[0;36m__call__\u001b[0;34m(self, inputs)\u001b[0m\n\u001b[1;32m   3798\u001b[0m     return nest.pack_sequence_as(\n\u001b[1;32m   3799\u001b[0m         \u001b[0mself\u001b[0m\u001b[0;34m.\u001b[0m\u001b[0m_outputs_structure\u001b[0m\u001b[0;34m,\u001b[0m\u001b[0;34m\u001b[0m\u001b[0;34m\u001b[0m\u001b[0m\n\u001b[0;32m-> 3800\u001b[0;31m         \u001b[0;34m[\u001b[0m\u001b[0mx\u001b[0m\u001b[0;34m.\u001b[0m\u001b[0m_numpy\u001b[0m\u001b[0;34m(\u001b[0m\u001b[0;34m)\u001b[0m \u001b[0;32mfor\u001b[0m \u001b[0mx\u001b[0m \u001b[0;32min\u001b[0m \u001b[0moutputs\u001b[0m\u001b[0;34m]\u001b[0m\u001b[0;34m,\u001b[0m  \u001b[0;31m# pylint: disable=protected-access\u001b[0m\u001b[0;34m\u001b[0m\u001b[0;34m\u001b[0m\u001b[0m\n\u001b[0m\u001b[1;32m   3801\u001b[0m         expand_composites=True)\n\u001b[1;32m   3802\u001b[0m \u001b[0;34m\u001b[0m\u001b[0m\n",
            "\u001b[0;32m/usr/local/lib/python3.6/dist-packages/tensorflow/python/keras/backend.py\u001b[0m in \u001b[0;36m<listcomp>\u001b[0;34m(.0)\u001b[0m\n\u001b[1;32m   3798\u001b[0m     return nest.pack_sequence_as(\n\u001b[1;32m   3799\u001b[0m         \u001b[0mself\u001b[0m\u001b[0;34m.\u001b[0m\u001b[0m_outputs_structure\u001b[0m\u001b[0;34m,\u001b[0m\u001b[0;34m\u001b[0m\u001b[0;34m\u001b[0m\u001b[0m\n\u001b[0;32m-> 3800\u001b[0;31m         \u001b[0;34m[\u001b[0m\u001b[0mx\u001b[0m\u001b[0;34m.\u001b[0m\u001b[0m_numpy\u001b[0m\u001b[0;34m(\u001b[0m\u001b[0;34m)\u001b[0m \u001b[0;32mfor\u001b[0m \u001b[0mx\u001b[0m \u001b[0;32min\u001b[0m \u001b[0moutputs\u001b[0m\u001b[0;34m]\u001b[0m\u001b[0;34m,\u001b[0m  \u001b[0;31m# pylint: disable=protected-access\u001b[0m\u001b[0;34m\u001b[0m\u001b[0;34m\u001b[0m\u001b[0m\n\u001b[0m\u001b[1;32m   3801\u001b[0m         expand_composites=True)\n\u001b[1;32m   3802\u001b[0m \u001b[0;34m\u001b[0m\u001b[0m\n",
            "\u001b[0;32m/usr/local/lib/python3.6/dist-packages/tensorflow/python/framework/ops.py\u001b[0m in \u001b[0;36m_numpy\u001b[0;34m(self)\u001b[0m\n\u001b[1;32m    925\u001b[0m     \u001b[0;31m# pylint: disable=protected-access\u001b[0m\u001b[0;34m\u001b[0m\u001b[0;34m\u001b[0m\u001b[0;34m\u001b[0m\u001b[0m\n\u001b[1;32m    926\u001b[0m     \u001b[0;32mtry\u001b[0m\u001b[0;34m:\u001b[0m\u001b[0;34m\u001b[0m\u001b[0;34m\u001b[0m\u001b[0m\n\u001b[0;32m--> 927\u001b[0;31m       \u001b[0;32mreturn\u001b[0m \u001b[0mself\u001b[0m\u001b[0;34m.\u001b[0m\u001b[0m_numpy_internal\u001b[0m\u001b[0;34m(\u001b[0m\u001b[0;34m)\u001b[0m\u001b[0;34m\u001b[0m\u001b[0;34m\u001b[0m\u001b[0m\n\u001b[0m\u001b[1;32m    928\u001b[0m     \u001b[0;32mexcept\u001b[0m \u001b[0mcore\u001b[0m\u001b[0;34m.\u001b[0m\u001b[0m_NotOkStatusException\u001b[0m \u001b[0;32mas\u001b[0m \u001b[0me\u001b[0m\u001b[0;34m:\u001b[0m\u001b[0;34m\u001b[0m\u001b[0;34m\u001b[0m\u001b[0m\n\u001b[1;32m    929\u001b[0m       \u001b[0msix\u001b[0m\u001b[0;34m.\u001b[0m\u001b[0mraise_from\u001b[0m\u001b[0;34m(\u001b[0m\u001b[0mcore\u001b[0m\u001b[0;34m.\u001b[0m\u001b[0m_status_to_exception\u001b[0m\u001b[0;34m(\u001b[0m\u001b[0me\u001b[0m\u001b[0;34m.\u001b[0m\u001b[0mcode\u001b[0m\u001b[0;34m,\u001b[0m \u001b[0me\u001b[0m\u001b[0;34m.\u001b[0m\u001b[0mmessage\u001b[0m\u001b[0;34m)\u001b[0m\u001b[0;34m,\u001b[0m \u001b[0;32mNone\u001b[0m\u001b[0;34m)\u001b[0m\u001b[0;34m\u001b[0m\u001b[0;34m\u001b[0m\u001b[0m\n",
            "\u001b[0;31mKeyboardInterrupt\u001b[0m: "
          ]
        }
      ]
    },
    {
      "cell_type": "code",
      "metadata": {
        "id": "BV00VPyviNgD",
        "colab_type": "code",
        "colab": {}
      },
      "source": [
        "# !cp '/content/best_model_freezed.h5' '/content/drive/My Drive/Deep Learning/Saved Models Project 2'"
      ],
      "execution_count": null,
      "outputs": []
    },
    {
      "cell_type": "code",
      "metadata": {
        "id": "_oEDZro94Deo",
        "colab_type": "code",
        "colab": {
          "base_uri": "https://localhost:8080/",
          "height": 709
        },
        "outputId": "a537730f-5309-4f01-9a25-895feb8ad83a"
      },
      "source": [
        "viz_history(hs_dict={'DenseNet169':dense_hist},metric='f1')\n",
        "viz_history(hs_dict={'DenseNet169':dense_hist},metric='loss')"
      ],
      "execution_count": null,
      "outputs": [
        {
          "output_type": "display_data",
          "data": {
            "image/png": "[encoded data removed]",
            "text/plain": [
              "<Figure size 1080x576 with 1 Axes>"
            ]
          },
          "metadata": {
            "tags": []
          }
        },
        {
          "output_type": "display_data",
          "data": {
            "image/png": "[encoded data removed]",
            "text/plain": [
              "<Figure size 1080x576 with 1 Axes>"
            ]
          },
          "metadata": {
            "tags": []
          }
        }
      ]
    },
    {
      "cell_type": "markdown",
      "metadata": {
        "id": "RI2thE5Yg1CB",
        "colab_type": "text"
      },
      "source": [
        "#### Evaluation on test set/ No test data augmentation\n"
      ]
    },
    {
      "cell_type": "code",
      "metadata": {
        "id": "m8lCtZokx85q",
        "colab_type": "code",
        "colab": {}
      },
      "source": [
        "# test_elbow=test_data[test_data.Body_Part=='XR_ELBOW']\n",
        "# test_labels_elbow=test_labels[test_labels.Body_Part=='XR_ELBOW']"
      ],
      "execution_count": null,
      "outputs": []
    },
    {
      "cell_type": "code",
      "metadata": {
        "id": "L-ObLX5mg42B",
        "colab_type": "code",
        "colab": {
          "base_uri": "https://localhost:8080/",
          "height": 35
        },
        "outputId": "443a4459-7905-4754-b616-fbfd49118afb"
      },
      "source": [
        "test_datagen = ImageDataGenerator(\n",
        "    rescale=1./255)\n",
        "test_generator=test_datagen.flow_from_dataframe(\n",
        "    dataframe=test_data,\n",
        "    directory=None,\n",
        "    x_col=\"Img_Path\",\n",
        "    y_col=\"Label\",\n",
        "    weight_col=None,\n",
        "    target_size=(224, 224),\n",
        "    color_mode=\"rgb\",\n",
        "    classes=None,\n",
        "    class_mode=\"categorical\",\n",
        "    batch_size=128,\n",
        "    shuffle=False,\n",
        "    seed=1,\n",
        "    save_to_dir=None,\n",
        "    save_prefix=\"\",\n",
        "    save_format=\"png\",\n",
        "    interpolation=\"nearest\",\n",
        "    validate_filenames=False\n",
        ")\n"
      ],
      "execution_count": null,
      "outputs": [
        {
          "output_type": "stream",
          "text": [
            "Found 3197 non-validated image filenames belonging to 2 classes.\n"
          ],
          "name": "stdout"
        }
      ]
    },
    {
      "cell_type": "code",
      "metadata": {
        "id": "O8zguFRQjDC9",
        "colab_type": "code",
        "colab": {
          "base_uri": "https://localhost:8080/",
          "height": 35
        },
        "outputId": "277be3a0-ebd0-4f95-a27a-87de47e82b6a"
      },
      "source": [
        "preds=DenseNetModel.predict(test_generator,\n",
        "                            verbose=1)"
      ],
      "execution_count": null,
      "outputs": [
        {
          "output_type": "stream",
          "text": [
            "25/25 [==============================] - 36s 1s/step\n"
          ],
          "name": "stdout"
        }
      ]
    },
    {
      "cell_type": "code",
      "metadata": {
        "id": "zH6T1QvANpVV",
        "colab_type": "code",
        "colab": {}
      },
      "source": [
        "voting_df=pd.DataFrame(data=np.c_[test_data['Patient/Study'].values,preds],\n",
        "                       columns=['Patient/Study','Class 0 prob','Class 1 prob'])\n",
        "voting_df[['Class 0 prob', 'Class 1 prob']] = voting_df[['Class 0 prob', 'Class 1 prob']].apply(pd.to_numeric)   "
      ],
      "execution_count": null,
      "outputs": []
    },
    {
      "cell_type": "code",
      "metadata": {
        "id": "-rPhyISZSTnu",
        "colab_type": "code",
        "colab": {}
      },
      "source": [
        "voting_df=voting_df.groupby('Patient/Study').mean().reset_index()"
      ],
      "execution_count": null,
      "outputs": []
    },
    {
      "cell_type": "code",
      "metadata": {
        "id": "UHNzKo90m6Io",
        "colab_type": "code",
        "colab": {}
      },
      "source": [
        "voting_df=voting_df.merge(test_labels,how='inner',on='Patient/Study')\n",
        "voting_df=voting_df.drop(columns=['Img_Path'])"
      ],
      "execution_count": null,
      "outputs": []
    },
    {
      "cell_type": "code",
      "metadata": {
        "id": "x05ie-6Zj_gh",
        "colab_type": "code",
        "colab": {}
      },
      "source": [
        "voting_df['Label'] = voting_df['Label'].apply(pd.to_numeric) "
      ],
      "execution_count": null,
      "outputs": []
    },
    {
      "cell_type": "code",
      "metadata": {
        "id": "gRxWWaxzxayy",
        "colab_type": "code",
        "colab": {
          "base_uri": "https://localhost:8080/",
          "height": 146
        },
        "outputId": "5165972e-d156-4ffe-b327-f2167dc89226"
      },
      "source": [
        "voting_df.dtypes"
      ],
      "execution_count": null,
      "outputs": [
        {
          "output_type": "execute_result",
          "data": {
            "text/plain": [
              "Patient/Study        object\n",
              "Class 0 prob        float64\n",
              "Class 1 prob        float64\n",
              "Class_prediction      int64\n",
              "Label                 int64\n",
              "Body_Part            object\n",
              "dtype: object"
            ]
          },
          "metadata": {
            "tags": []
          },
          "execution_count": 140
        }
      ]
    },
    {
      "cell_type": "code",
      "metadata": {
        "id": "yczNylfMKwkR",
        "colab_type": "code",
        "colab": {}
      },
      "source": [
        "from sklearn.metrics import *"
      ],
      "execution_count": null,
      "outputs": []
    },
    {
      "cell_type": "code",
      "metadata": {
        "id": "ruWGWNtq3hmA",
        "colab_type": "code",
        "colab": {
          "base_uri": "https://localhost:8080/",
          "height": 35
        },
        "outputId": "305a71f9-7e2c-4552-90c5-fd9aad315787"
      },
      "source": [
        "cohen_kappa_score(voting_df.Class_prediction,voting_df.Label)"
      ],
      "execution_count": null,
      "outputs": [
        {
          "output_type": "execute_result",
          "data": {
            "text/plain": [
              "0.6814618447827467"
            ]
          },
          "metadata": {
            "tags": []
          },
          "execution_count": 142
        }
      ]
    },
    {
      "cell_type": "code",
      "metadata": {
        "id": "X76yEZiiMCCj",
        "colab_type": "code",
        "colab": {
          "base_uri": "https://localhost:8080/",
          "height": 35
        },
        "outputId": "1f33a8ea-087f-4ea8-a893-0e2ca0674216"
      },
      "source": [
        "f1_score(voting_df.Class_prediction,voting_df.Label)"
      ],
      "execution_count": null,
      "outputs": [
        {
          "output_type": "execute_result",
          "data": {
            "text/plain": [
              "0.806282722513089"
            ]
          },
          "metadata": {
            "tags": []
          },
          "execution_count": 143
        }
      ]
    },
    {
      "cell_type": "code",
      "metadata": {
        "id": "nzRofzovVkS3",
        "colab_type": "code",
        "colab": {
          "base_uri": "https://localhost:8080/",
          "height": 461
        },
        "outputId": "6501f234-c4f9-40af-cc0c-0a6f7fa63ffb"
      },
      "source": [
        "voting_df"
      ],
      "execution_count": null,
      "outputs": [
        {
          "output_type": "execute_result",
          "data": {
            "text/html": [
              "<div>\n",
              "<style scoped>\n",
              "    .dataframe tbody tr th:only-of-type {\n",
              "        vertical-align: middle;\n",
              "    }\n",
              "\n",
              "    .dataframe tbody tr th {\n",
              "        vertical-align: top;\n",
              "    }\n",
              "\n",
              "    .dataframe thead th {\n",
              "        text-align: right;\n",
              "    }\n",
              "</style>\n",
              "<table border=\"1\" class=\"dataframe\">\n",
              "  <thead>\n",
              "    <tr style=\"text-align: right;\">\n",
              "      <th></th>\n",
              "      <th>Patient/Study</th>\n",
              "      <th>Class 0 prob</th>\n",
              "      <th>Class 1 prob</th>\n",
              "      <th>Class_prediction</th>\n",
              "      <th>Label</th>\n",
              "      <th>Body_Part</th>\n",
              "    </tr>\n",
              "  </thead>\n",
              "  <tbody>\n",
              "    <tr>\n",
              "      <th>0</th>\n",
              "      <td>patient11185/study1_positive/</td>\n",
              "      <td>0.184163</td>\n",
              "      <td>0.815837</td>\n",
              "      <td>1</td>\n",
              "      <td>1</td>\n",
              "      <td>XR_WRIST</td>\n",
              "    </tr>\n",
              "    <tr>\n",
              "      <th>1</th>\n",
              "      <td>patient11186/study1_positive/</td>\n",
              "      <td>0.071153</td>\n",
              "      <td>0.928847</td>\n",
              "      <td>1</td>\n",
              "      <td>1</td>\n",
              "      <td>XR_WRIST</td>\n",
              "    </tr>\n",
              "    <tr>\n",
              "      <th>2</th>\n",
              "      <td>patient11186/study1_positive/</td>\n",
              "      <td>0.071153</td>\n",
              "      <td>0.928847</td>\n",
              "      <td>1</td>\n",
              "      <td>1</td>\n",
              "      <td>XR_HUMERUS</td>\n",
              "    </tr>\n",
              "    <tr>\n",
              "      <th>3</th>\n",
              "      <td>patient11186/study1_positive/</td>\n",
              "      <td>0.071153</td>\n",
              "      <td>0.928847</td>\n",
              "      <td>1</td>\n",
              "      <td>1</td>\n",
              "      <td>XR_SHOULDER</td>\n",
              "    </tr>\n",
              "    <tr>\n",
              "      <th>4</th>\n",
              "      <td>patient11186/study1_positive/</td>\n",
              "      <td>0.071153</td>\n",
              "      <td>0.928847</td>\n",
              "      <td>1</td>\n",
              "      <td>1</td>\n",
              "      <td>XR_ELBOW</td>\n",
              "    </tr>\n",
              "    <tr>\n",
              "      <th>...</th>\n",
              "      <td>...</td>\n",
              "      <td>...</td>\n",
              "      <td>...</td>\n",
              "      <td>...</td>\n",
              "      <td>...</td>\n",
              "      <td>...</td>\n",
              "    </tr>\n",
              "    <tr>\n",
              "      <th>1194</th>\n",
              "      <td>patient11963/study1_negative/</td>\n",
              "      <td>0.224424</td>\n",
              "      <td>0.775576</td>\n",
              "      <td>1</td>\n",
              "      <td>0</td>\n",
              "      <td>XR_FINGER</td>\n",
              "    </tr>\n",
              "    <tr>\n",
              "      <th>1195</th>\n",
              "      <td>patient11964/study1_negative/</td>\n",
              "      <td>0.919738</td>\n",
              "      <td>0.080262</td>\n",
              "      <td>0</td>\n",
              "      <td>0</td>\n",
              "      <td>XR_FINGER</td>\n",
              "    </tr>\n",
              "    <tr>\n",
              "      <th>1196</th>\n",
              "      <td>patient11965/study1_negative/</td>\n",
              "      <td>0.999665</td>\n",
              "      <td>0.000335</td>\n",
              "      <td>0</td>\n",
              "      <td>0</td>\n",
              "      <td>XR_FINGER</td>\n",
              "    </tr>\n",
              "    <tr>\n",
              "      <th>1197</th>\n",
              "      <td>patient11966/study1_negative/</td>\n",
              "      <td>0.979315</td>\n",
              "      <td>0.020685</td>\n",
              "      <td>0</td>\n",
              "      <td>0</td>\n",
              "      <td>XR_FINGER</td>\n",
              "    </tr>\n",
              "    <tr>\n",
              "      <th>1198</th>\n",
              "      <td>patient11967/study1_negative/</td>\n",
              "      <td>0.960931</td>\n",
              "      <td>0.039069</td>\n",
              "      <td>0</td>\n",
              "      <td>0</td>\n",
              "      <td>XR_FINGER</td>\n",
              "    </tr>\n",
              "  </tbody>\n",
              "</table>\n",
              "<p>1199 rows × 6 columns</p>\n",
              "</div>"
            ],
            "text/plain": [
              "                      Patient/Study  Class 0 prob  ...  Label    Body_Part\n",
              "0     patient11185/study1_positive/      0.184163  ...      1     XR_WRIST\n",
              "1     patient11186/study1_positive/      0.071153  ...      1     XR_WRIST\n",
              "2     patient11186/study1_positive/      0.071153  ...      1   XR_HUMERUS\n",
              "3     patient11186/study1_positive/      0.071153  ...      1  XR_SHOULDER\n",
              "4     patient11186/study1_positive/      0.071153  ...      1     XR_ELBOW\n",
              "...                             ...           ...  ...    ...          ...\n",
              "1194  patient11963/study1_negative/      0.224424  ...      0    XR_FINGER\n",
              "1195  patient11964/study1_negative/      0.919738  ...      0    XR_FINGER\n",
              "1196  patient11965/study1_negative/      0.999665  ...      0    XR_FINGER\n",
              "1197  patient11966/study1_negative/      0.979315  ...      0    XR_FINGER\n",
              "1198  patient11967/study1_negative/      0.960931  ...      0    XR_FINGER\n",
              "\n",
              "[1199 rows x 6 columns]"
            ]
          },
          "metadata": {
            "tags": []
          },
          "execution_count": 144
        }
      ]
    },
    {
      "cell_type": "code",
      "metadata": {
        "id": "MdWfbD_mrwLX",
        "colab_type": "code",
        "colab": {
          "base_uri": "https://localhost:8080/",
          "height": 183
        },
        "outputId": "b354ae48-cf53-4ba5-c57e-4606f9f7588a"
      },
      "source": [
        "print(classification_report(voting_df.Label, voting_df.Class_prediction, target_names=['negative (0)','positive (1)']))"
      ],
      "execution_count": null,
      "outputs": [
        {
          "output_type": "stream",
          "text": [
            "              precision    recall  f1-score   support\n",
            "\n",
            "negative (0)       0.80      0.95      0.87       661\n",
            "positive (1)       0.92      0.72      0.81       538\n",
            "\n",
            "    accuracy                           0.85      1199\n",
            "   macro avg       0.86      0.83      0.84      1199\n",
            "weighted avg       0.86      0.85      0.84      1199\n",
            "\n"
          ],
          "name": "stdout"
        }
      ]
    },
    {
      "cell_type": "markdown",
      "metadata": {
        "id": "T0uZFZZ-anLp",
        "colab_type": "text"
      },
      "source": [
        "#### Test time augmentation\n"
      ]
    },
    {
      "cell_type": "markdown",
      "metadata": {
        "id": "Xs8qIhmNcWxF",
        "colab_type": "text"
      },
      "source": [
        "The reason it might work is that, by averaging our predictions, on randomly modified images, we are also averaging the errors. The error can be big in a single vector, leading to a wrong answer, but when averaged,the correct answer might stand out.\n",
        "\n",
        "Test Time Augmentation is particularly useful for test images that the model is pretty unsure. Even if those 5 images seemed very similar to the reviewer, for the model they were very different, by looking at its predictions."
      ]
    },
    {
      "cell_type": "markdown",
      "metadata": {
        "id": "QGTXWbaxcISN",
        "colab_type": "text"
      },
      "source": [
        "To do Test Time Augmentation, we can reuse the same Data Generator used for training, and apply it to validation images.\n",
        "\n",
        "We can then show the model 10 times (for example) the randomly modified images, get the prediction for each, and take the average:\n"
      ]
    },
    {
      "cell_type": "code",
      "metadata": {
        "id": "Q96G69vykjUD",
        "colab_type": "code",
        "colab": {
          "base_uri": "https://localhost:8080/",
          "height": 35
        },
        "outputId": "082b28d2-97ee-43cd-8e61-5f5eb86a52d3"
      },
      "source": [
        "test_generator=train_datagen.flow_from_dataframe(\n",
        "    dataframe=test_data,\n",
        "    directory=None,\n",
        "    x_col=\"Img_Path\",\n",
        "    y_col=\"Label\",\n",
        "    weight_col=None,\n",
        "    target_size=(224, 224),\n",
        "    color_mode=\"rgb\",\n",
        "    classes=None,\n",
        "    class_mode=\"categorical\",\n",
        "    batch_size=128,\n",
        "    shuffle=False,\n",
        "    seed=1,\n",
        "    save_to_dir=None,\n",
        "    save_prefix=\"\",\n",
        "    save_format=\"png\",\n",
        "    interpolation=\"nearest\",\n",
        "    validate_filenames=False\n",
        ")"
      ],
      "execution_count": null,
      "outputs": [
        {
          "output_type": "stream",
          "text": [
            "Found 3197 non-validated image filenames belonging to 2 classes.\n"
          ],
          "name": "stdout"
        }
      ]
    },
    {
      "cell_type": "code",
      "metadata": {
        "id": "Jhh4WNebzBm4",
        "colab_type": "code",
        "colab": {}
      },
      "source": [
        "tta_steps = 10\n",
        "predictions = []\n",
        "\n",
        "for i in tqdm(range(tta_steps)):\n",
        "    preds = DenseNetModel.predict(test_generator,verbose=1)\n",
        "    predictions.append(preds)"
      ],
      "execution_count": null,
      "outputs": []
    },
    {
      "cell_type": "code",
      "metadata": {
        "id": "_FikKW3obATX",
        "colab_type": "code",
        "colab": {
          "base_uri": "https://localhost:8080/",
          "height": 35
        },
        "outputId": "9edad3e6-8f7e-43aa-cf0e-cebfe04443c9"
      },
      "source": [
        "pred = np.mean(predictions, axis=0)\n",
        "pred.shape"
      ],
      "execution_count": null,
      "outputs": [
        {
          "output_type": "execute_result",
          "data": {
            "text/plain": [
              "(3197, 2)"
            ]
          },
          "metadata": {
            "tags": []
          },
          "execution_count": 148
        }
      ]
    },
    {
      "cell_type": "code",
      "metadata": {
        "colab_type": "code",
        "id": "EJsol8iAbiWO",
        "colab": {}
      },
      "source": [
        "voting_df=pd.DataFrame(data=np.c_[test_data['Patient/Study'].values,pred],\n",
        "                       columns=['Patient/Study','Class 0 prob','Class 1 prob'])\n",
        "voting_df[['Class 0 prob', 'Class 1 prob']] = voting_df[['Class 0 prob', 'Class 1 prob']].apply(pd.to_numeric)   "
      ],
      "execution_count": null,
      "outputs": []
    },
    {
      "cell_type": "code",
      "metadata": {
        "colab_type": "code",
        "id": "n1V4eGWobiWj",
        "colab": {}
      },
      "source": [
        "voting_df=voting_df.groupby('Patient/Study').mean().reset_index()"
      ],
      "execution_count": null,
      "outputs": []
    },
    {
      "cell_type": "code",
      "metadata": {
        "colab_type": "code",
        "id": "XkK71v4xbiWy",
        "colab": {}
      },
      "source": [
        "voting_df['Class_prediction']=np.argmax(voting_df.iloc[:,1:3].values,axis=1)"
      ],
      "execution_count": null,
      "outputs": []
    },
    {
      "cell_type": "code",
      "metadata": {
        "colab_type": "code",
        "id": "Keyhr5yRbiW-",
        "colab": {}
      },
      "source": [
        "voting_df=voting_df.merge(test_labels,how='inner',on='Patient/Study')\n",
        "voting_df=voting_df.drop(columns=['Img_Path'])\n",
        "voting_df['Label'] = voting_df['Label'].apply(pd.to_numeric) "
      ],
      "execution_count": null,
      "outputs": []
    },
    {
      "cell_type": "code",
      "metadata": {
        "colab_type": "code",
        "id": "LJxi3umBbiXS",
        "colab": {}
      },
      "source": [
        "from sklearn.metrics import *"
      ],
      "execution_count": null,
      "outputs": []
    },
    {
      "cell_type": "code",
      "metadata": {
        "colab_type": "code",
        "id": "EpcvltODbiXb",
        "colab": {
          "base_uri": "https://localhost:8080/",
          "height": 35
        },
        "outputId": "8858c06c-3c0a-4c0c-bdd8-1494eaeff674"
      },
      "source": [
        "cohen_kappa_score(voting_df.Class_prediction,voting_df.Label)"
      ],
      "execution_count": null,
      "outputs": [
        {
          "output_type": "execute_result",
          "data": {
            "text/plain": [
              "0.7041098274388862"
            ]
          },
          "metadata": {
            "tags": []
          },
          "execution_count": 172
        }
      ]
    },
    {
      "cell_type": "code",
      "metadata": {
        "colab_type": "code",
        "id": "St8rD5mDbiXk",
        "colab": {
          "base_uri": "https://localhost:8080/",
          "height": 35
        },
        "outputId": "34cd0def-925b-4dfe-c495-405f55ccf417"
      },
      "source": [
        "f1_score(voting_df.Class_prediction,voting_df.Label)"
      ],
      "execution_count": null,
      "outputs": [
        {
          "output_type": "execute_result",
          "data": {
            "text/plain": [
              "0.8257804632426989"
            ]
          },
          "metadata": {
            "tags": []
          },
          "execution_count": 173
        }
      ]
    },
    {
      "cell_type": "code",
      "metadata": {
        "colab_type": "code",
        "id": "Uj4JdzapbiXt",
        "colab": {
          "base_uri": "https://localhost:8080/",
          "height": 183
        },
        "outputId": "40acc521-e93d-42e6-c581-264687c37695"
      },
      "source": [
        "print(classification_report(voting_df.Label, voting_df.Class_prediction, target_names=['negative (0)','positive (1)']))"
      ],
      "execution_count": null,
      "outputs": [
        {
          "output_type": "stream",
          "text": [
            "              precision    recall  f1-score   support\n",
            "\n",
            "negative (0)       0.83      0.93      0.88       661\n",
            "positive (1)       0.90      0.76      0.83       538\n",
            "\n",
            "    accuracy                           0.86      1199\n",
            "   macro avg       0.86      0.85      0.85      1199\n",
            "weighted avg       0.86      0.86      0.85      1199\n",
            "\n"
          ],
          "name": "stdout"
        }
      ]
    },
    {
      "cell_type": "code",
      "metadata": {
        "id": "9p822p_cb_eM",
        "colab_type": "code",
        "colab": {}
      },
      "source": [
        "def calculate_kappa_scores_per_body_part(df):\n",
        "  body_part_type=df.Body_Part.unique()\n",
        "  res={}\n",
        "  for i in body_part_type:\n",
        "    tmp=df[df.Body_Part==i]\n",
        "    kappa_score=cohen_kappa_score(tmp.Class_prediction,tmp.Label)\n",
        "    res[i]=kappa_score\n",
        "  return res"
      ],
      "execution_count": null,
      "outputs": []
    },
    {
      "cell_type": "code",
      "metadata": {
        "id": "GJkURbneZwKs",
        "colab_type": "code",
        "colab": {}
      },
      "source": [
        "kappa_score_per_body_part=calculate_kappa_scores_per_body_part(voting_df)"
      ],
      "execution_count": null,
      "outputs": []
    },
    {
      "cell_type": "code",
      "metadata": {
        "id": "a6ghx5oHZ3nE",
        "colab_type": "code",
        "colab": {
          "base_uri": "https://localhost:8080/",
          "height": 146
        },
        "outputId": "8605bb50-b4c6-487c-b676-7ddc8adee398"
      },
      "source": [
        "kappa_score_per_body_part"
      ],
      "execution_count": null,
      "outputs": [
        {
          "output_type": "execute_result",
          "data": {
            "text/plain": [
              "{'XR_ELBOW': 0.7479429051217464,\n",
              " 'XR_FINGER': 0.6062210456651225,\n",
              " 'XR_FOREARM': 0.7114308553157473,\n",
              " 'XR_HAND': 0.6844591402928673,\n",
              " 'XR_HUMERUS': 0.777789970371996,\n",
              " 'XR_SHOULDER': 0.6280754073916285,\n",
              " 'XR_WRIST': 0.7672257479601088}"
            ]
          },
          "metadata": {
            "tags": []
          },
          "execution_count": 180
        }
      ]
    },
    {
      "cell_type": "code",
      "metadata": {
        "id": "dc8ybBRWaLWR",
        "colab_type": "code",
        "colab": {}
      },
      "source": [
        ""
      ],
      "execution_count": null,
      "outputs": []
    }
  ]
}